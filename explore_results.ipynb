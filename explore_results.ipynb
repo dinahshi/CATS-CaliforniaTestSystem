{
 "cells": [
  {
   "cell_type": "markdown",
   "metadata": {},
   "source": [
    "# Exploring results from DC power flow"
   ]
  },
  {
   "cell_type": "code",
   "execution_count": 1,
   "metadata": {},
   "outputs": [],
   "source": [
    "import numpy as np\n",
    "import geopandas as gpd\n",
    "import pandas as pd\n",
    "\n",
    "import json\n",
    "import os"
   ]
  },
  {
   "cell_type": "code",
   "execution_count": 2,
   "metadata": {},
   "outputs": [
    {
     "name": "stdout",
     "output_type": "stream",
     "text": [
      "LOCALLY_SOLVED\n"
     ]
    }
   ],
   "source": [
    "data_dir = '~/research/ream-lab/CATS-CaliforniaTestSystem'\n",
    "\n",
    "with open('pf_solution.json') as f:\n",
    "    soln = json.load(f)\n",
    "    print(soln['termination_status'])"
   ]
  },
  {
   "cell_type": "code",
   "execution_count": 3,
   "metadata": {},
   "outputs": [
    {
     "name": "stdout",
     "output_type": "stream",
     "text": [
      "<bound method NDFrame.describe of       PlantCode GenID   bus                              FuelType        Pg  \\\n",
      "0            34    1P   745            Conventional Hydroelectric  4.033363   \n",
      "1           151     1  1804                     Petroleum Liquids  0.000000   \n",
      "2           151     2  1804  Natural Gas Fired Combustion Turbine  0.000000   \n",
      "3           161     1  1964            Conventional Hydroelectric  0.366669   \n",
      "4           161     2  1964            Conventional Hydroelectric  0.366669   \n",
      "...         ...   ...   ...                                   ...       ...   \n",
      "3887          0     0  8862                 Synchronous Condenser  0.000000   \n",
      "3888          0     0  8863                 Synchronous Condenser  0.000000   \n",
      "3889          0     0  8864                 Synchronous Condenser  0.000000   \n",
      "3890          0     0  8865                 Synchronous Condenser  0.000000   \n",
      "3891          0     0  8867                 Synchronous Condenser  0.000000   \n",
      "\n",
      "      Pmax  Pmin  Qg        Qmax        Qmin        Lat         Lon  \n",
      "0     12.1     0   0   18.777143  -14.670714  39.134259 -120.953341  \n",
      "1     71.2     0   0   34.500000  -23.700000  37.629360 -120.931390  \n",
      "2     71.2     0   0   34.500000  -23.700000  37.629360 -120.931390  \n",
      "3      1.1     0   0   18.777143  -14.670714  37.611461 -120.594678  \n",
      "4      1.1     0   0   18.777143  -14.670714  37.611461 -120.594678  \n",
      "...    ...   ...  ..         ...         ...        ...         ...  \n",
      "3887   0.0     0   0  200.000000 -200.000000  32.696514 -117.143455  \n",
      "3888   0.0     0   0  200.000000 -200.000000  34.366663 -117.368629  \n",
      "3889   0.0     0   0  200.000000 -200.000000  34.366600 -117.368612  \n",
      "3890   0.0     0   0  200.000000 -200.000000  35.841706 -119.085033  \n",
      "3891   0.0     0   0  200.000000 -200.000000  38.901265 -121.087842  \n",
      "\n",
      "[3892 rows x 12 columns]>\n"
     ]
    }
   ],
   "source": [
    "generators = pd.read_csv(os.path.join(data_dir, 'GIS', 'CATS_gens.csv'))\n",
    "print(generators.describe)"
   ]
  },
  {
   "cell_type": "code",
   "execution_count": 61,
   "metadata": {},
   "outputs": [
    {
     "name": "stdout",
     "output_type": "stream",
     "text": [
      "{34: 'Placer', 151: 'Stanislaus', 161: 'Stanislaus', 162: 'Stanislaus', 180: 'Shasta'}\n"
     ]
    }
   ],
   "source": [
    "# Load California county boundaries shapefile\n",
    "# Shapefile source https://gis.data.ca.gov/datasets/8713ced9b78a4abb97dc130a691a8695\n",
    "county_shapes = gpd.read_file(os.path.join(data_dir, 'GIS', 'california_county_boundaries', 'cnty19_1.shp'))\n",
    "county_shapes = county_shapes.to_crs(\"EPSG:4326\")\n",
    "\n",
    "# Create a GeoDataFrame from the generators DataFrame\n",
    "generators_geo = gpd.GeoDataFrame(\n",
    "    generators,\n",
    "    geometry=gpd.points_from_xy(generators['Lon'], generators['Lat'], crs=\"EPSG:4326\")\n",
    ")\n",
    "\n",
    "# Perform spatial join to get county information for each generator\n",
    "joined_data = gpd.sjoin(generators_geo, county_shapes, how=\"left\", predicate=\"within\")\n",
    "\n",
    "# Create a dictionary mapping PlantCode to county name\n",
    "generator_to_county = dict(zip(joined_data['PlantCode'], joined_data['COUNTY_NAM']))\n",
    "\n",
    "# Use the resulting dictionary\n",
    "# Print top 5 dictionary entries for now\n",
    "gen_to_county_slice = dict(list(generator_to_county.items())[0: 5])\n",
    "print(str(gen_to_county_slice))\n"
   ]
  }
 ],
 "metadata": {
  "kernelspec": {
   "display_name": "Python 3",
   "language": "python",
   "name": "python3"
  },
  "language_info": {
   "codemirror_mode": {
    "name": "ipython",
    "version": 3
   },
   "file_extension": ".py",
   "mimetype": "text/x-python",
   "name": "python",
   "nbconvert_exporter": "python",
   "pygments_lexer": "ipython3",
   "version": "3.10.8"
  }
 },
 "nbformat": 4,
 "nbformat_minor": 2
}
